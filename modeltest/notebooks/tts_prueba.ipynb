{
 "cells": [
  {
   "cell_type": "code",
   "execution_count": 4,
   "id": "8257bfcb-beb8-4d0a-82c5-653e2ee512fa",
   "metadata": {},
   "outputs": [],
   "source": [
    "import pyttsx3\n",
    "\n",
    "engine = pyttsx3.init()\n",
    "\n",
    "text = 'You did it, son of a bitch! You did it!'  # Text to be converted to speech\n",
    "\n",
    "engine.save_to_file(text, 'output.mp3')  # Save the TTS result to an audio file\n",
    "engine.runAndWait()\n"
   ]
  },
  {
   "cell_type": "code",
   "execution_count": 11,
   "id": "cea8e314-7fad-4feb-aa35-973c9a6e22ff",
   "metadata": {},
   "outputs": [],
   "source": [
    "from gtts import gTTS\n",
    "\n",
    "text = 'You did it, son of a bitch! You did it!'  # Text to be converted to speech\n",
    "\n",
    "tts = gTTS(text=text, lang='es')  # Create a gTTS object with the desired text and language\n",
    "tts.save('output.mp3')  # Save the TTS result to an audio file\n"
   ]
  }
 ],
 "metadata": {
  "kernelspec": {
   "display_name": "Python 3 (ipykernel)",
   "language": "python",
   "name": "python3"
  },
  "language_info": {
   "codemirror_mode": {
    "name": "ipython",
    "version": 3
   },
   "file_extension": ".py",
   "mimetype": "text/x-python",
   "name": "python",
   "nbconvert_exporter": "python",
   "pygments_lexer": "ipython3",
   "version": "3.8.10"
  }
 },
 "nbformat": 4,
 "nbformat_minor": 5
}
